{
 "cells": [
  {
   "cell_type": "markdown",
   "id": "5f011c86",
   "metadata": {},
   "source": [
    "# Load CIFAR 10\n",
    "\n",
    "- TUTORIAL: [PyTorch](https://pytorch.org/tutorials/beginner/blitz/cifar10_tutorial.html?highlight=mnist)"
   ]
  },
  {
   "cell_type": "code",
   "execution_count": 1,
   "id": "69684bc4",
   "metadata": {},
   "outputs": [],
   "source": [
    "import os\n",
    "import sys\n",
    "# Get the current working directory of the notebook\n",
    "notebook_dir = os.getcwd()\n",
    "\n",
    "# Add the parent directory to the system path\n",
    "sys.path.append(os.path.join(notebook_dir, '../'))\n",
    "\n",
    "import data_loader"
   ]
  },
  {
   "cell_type": "code",
   "execution_count": null,
   "id": "3463c3dd",
   "metadata": {},
   "outputs": [],
   "source": [
    "data_loader.build_cifar_ten_pytorch()"
   ]
  },
  {
   "cell_type": "code",
   "execution_count": null,
   "id": "0fd1d684",
   "metadata": {},
   "outputs": [],
   "source": [
    "data_loader.build_cifar_ten_pytorch(show_data=True)"
   ]
  },
  {
   "cell_type": "code",
   "execution_count": null,
   "id": "f7a8ba10",
   "metadata": {},
   "outputs": [],
   "source": []
  }
 ],
 "metadata": {
  "kernelspec": {
   "display_name": "spiking_zoo",
   "language": "python",
   "name": "python3"
  },
  "language_info": {
   "codemirror_mode": {
    "name": "ipython",
    "version": 3
   },
   "file_extension": ".py",
   "mimetype": "text/x-python",
   "name": "python",
   "nbconvert_exporter": "python",
   "pygments_lexer": "ipython3",
   "version": "3.12.9"
  }
 },
 "nbformat": 4,
 "nbformat_minor": 5
}
